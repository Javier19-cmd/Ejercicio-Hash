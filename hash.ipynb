{
 "cells": [
  {
   "cell_type": "code",
   "execution_count": 15,
   "metadata": {},
   "outputs": [
    {
     "name": "stdout",
     "output_type": "stream",
     "text": [
      "Tiempo para calcular SHA-256: 0.000999 segundos\n",
      "SHA-256: 29f68526129c28be4a3b01d5a4ff5e5e92ff5a05b697f736fa08101e7cdcd1ad\n",
      "El hash SHA-256 es correcto\n"
     ]
    }
   ],
   "source": [
    "import hashlib\n",
    "import time\n",
    "\n",
    "def calcular_sha256(nombre_archivo):\n",
    "    sha256 = hashlib.sha256()\n",
    "    with open(nombre_archivo, 'rb') as archivo:\n",
    "        contenido = archivo.read()\n",
    "        sha256.update(contenido)\n",
    "    return sha256.hexdigest()\n",
    "\n",
    "nombre_archivo = 'documento.txt'\n",
    "inicio_sha256 = time.time()\n",
    "hash_sha256 = calcular_sha256(nombre_archivo)\n",
    "fin_sha256 = time.time()\n",
    "tiempo_sha256 = fin_sha256 - inicio_sha256\n",
    "print(\"Tiempo para calcular SHA-256: {:.6f} segundos\".format(tiempo_sha256))\n",
    "print(\"SHA-256: {}\".format(hash_sha256))\n",
    "\n",
    "comprobacion = \"29f68526129c28be4a3b01d5a4ff5e5e92ff5a05b697f736fa08101e7cdcd1ad\"\n",
    "\n",
    "if hash_sha256 == comprobacion:\n",
    "    print(\"El hash SHA-256 es correcto\")"
   ]
  },
  {
   "cell_type": "code",
   "execution_count": 16,
   "metadata": {},
   "outputs": [
    {
     "name": "stdout",
     "output_type": "stream",
     "text": [
      "Tiempo para calcular MD5: 0.001002 segundos\n",
      "Resultad:  4e48131972b38d363750daa15e57660e\n"
     ]
    }
   ],
   "source": [
    "import hashlib\n",
    "\n",
    "def calcular_md5(nombre_archivo):\n",
    "    md5 = hashlib.md5()\n",
    "    with open(nombre_archivo, 'rb') as archivo:\n",
    "        contenido = archivo.read()\n",
    "        md5.update(contenido)\n",
    "    return md5.hexdigest()\n",
    "\n",
    "nombre_archivo = 'documento.txt'\n",
    "inicio_md5 = time.time()\n",
    "hash_md5 = calcular_md5(nombre_archivo)\n",
    "fin_md5 = time.time()\n",
    "tiempo_md5 = fin_md5 - inicio_md5\n",
    "print(\"Tiempo para calcular MD5: {:.6f} segundos\".format(tiempo_md5))\n",
    "print(\"Resultad: \", hash_md5)"
   ]
  },
  {
   "cell_type": "code",
   "execution_count": 17,
   "metadata": {},
   "outputs": [
    {
     "name": "stdout",
     "output_type": "stream",
     "text": [
      "Diferencia de tiempo entre SHA-256 y MD5: 0.000003 segundos\n"
     ]
    }
   ],
   "source": [
    "diferencia_tiempo = abs(tiempo_sha256 - tiempo_md5)\n",
    "print(\"Diferencia de tiempo entre SHA-256 y MD5: {:.6f} segundos\".format(diferencia_tiempo))"
   ]
  },
  {
   "cell_type": "markdown",
   "metadata": {},
   "source": [
    "Esta función toma como parámetro un archivo, lo lee y lo hashea con sha-256."
   ]
  },
  {
   "cell_type": "markdown",
   "metadata": {},
   "source": [
    "1. **Hacer un análisis comparativo de una función HASH MD5 Y SHA-256.**\n",
    "2. **Mostrar la diferencia en tiempo de HASH en MD5 vs SHA-256**\n",
    "3. **Investigar la vulnerabilidad de MD5 y como romperlo.**"
   ]
  },
  {
   "cell_type": "markdown",
   "metadata": {},
   "source": [
    "1. La principal diferencia entre el hash MD5 y el SHA-256 es que el algoritmo MD5 produce una salida de 128 bits y el algoritmo SHA-256 produce una salida de 256 bits. Asimismo, esto se puede observar en el output de las celdas anteriores.\n",
    "2. La diferencia de tiempo es de 0.000020 segundos.\n",
    "3. La vulnerabilidad del algoritmo MD5 es que está sugeto a colisión hash. La vulnerabilidad de este algoritmo es que puede provocar una manipulación, suplantación u otros tipos de algoritmos que tienen una salida de criptográfica única de una función hash."
   ]
  },
  {
   "cell_type": "markdown",
   "metadata": {},
   "source": [
    "Referencias:\n",
    "\n",
    "- https://www.linkedin.com/advice/1/how-do-you-handle-compatibility-interoperability-issues?lang=es&originalSubdomain=es#:~:text=MD5%20produce%20una%20salida%20de,que%20producen%20la%20misma%20salida).\n",
    "- https://learn.microsoft.com/es-es/dotnet/fundamentals/code-analysis/quality-rules/ca5351"
   ]
  },
  {
   "cell_type": "markdown",
   "metadata": {},
   "source": [
    "Archivos complementarios"
   ]
  },
  {
   "cell_type": "code",
   "execution_count": 19,
   "metadata": {},
   "outputs": [
    {
     "name": "stdout",
     "output_type": "stream",
     "text": [
      "Tiempo para calcular SHA-256: 0.015011 segundos\n",
      "SHA-256: 679edb4a383ff223070004635095f0c12610171627280c646df70c068a8a0d50\n"
     ]
    }
   ],
   "source": [
    "nombre_archivo = 'documento_1.txt'\n",
    "inicio_sha256 = time.time()\n",
    "hash_sha256 = calcular_sha256(nombre_archivo)\n",
    "fin_sha256 = time.time()\n",
    "tiempo_sha256 = fin_sha256 - inicio_sha256\n",
    "print(\"Tiempo para calcular SHA-256: {:.6f} segundos\".format(tiempo_sha256))\n",
    "print(\"SHA-256: {}\".format(hash_sha256))\n",
    "\n",
    "comprobacion = \"29f68526129c28be4a3b01d5a4ff5e5e92ff5a05b697f736fa08101e7cdcd1ad\"\n",
    "\n",
    "if hash_sha256 == comprobacion:\n",
    "    print(\"El hash SHA-256 es correcto\")"
   ]
  },
  {
   "cell_type": "code",
   "execution_count": 20,
   "metadata": {},
   "outputs": [
    {
     "name": "stdout",
     "output_type": "stream",
     "text": [
      "Tiempo para calcular SHA-256: 0.016001 segundos\n",
      "SHA-256: 1b99376c85bad1b005e83cd03d6af5302b6a53769b806f9d5f6d57abb99d4df7\n"
     ]
    }
   ],
   "source": [
    "nombre_archivo = 'documento_2.txt'\n",
    "inicio_sha256 = time.time()\n",
    "hash_sha256 = calcular_sha256(nombre_archivo)\n",
    "fin_sha256 = time.time()\n",
    "tiempo_sha256 = fin_sha256 - inicio_sha256\n",
    "print(\"Tiempo para calcular SHA-256: {:.6f} segundos\".format(tiempo_sha256))\n",
    "print(\"SHA-256: {}\".format(hash_sha256))\n",
    "\n",
    "comprobacion = \"29f68526129c28be4a3b01d5a4ff5e5e92ff5a05b697f736fa08101e7cdcd1ad\"\n",
    "\n",
    "if hash_sha256 == comprobacion:\n",
    "    print(\"El hash SHA-256 es correcto\")"
   ]
  }
 ],
 "metadata": {
  "kernelspec": {
   "display_name": "Python 3",
   "language": "python",
   "name": "python3"
  },
  "language_info": {
   "codemirror_mode": {
    "name": "ipython",
    "version": 3
   },
   "file_extension": ".py",
   "mimetype": "text/x-python",
   "name": "python",
   "nbconvert_exporter": "python",
   "pygments_lexer": "ipython3",
   "version": "3.11.3"
  }
 },
 "nbformat": 4,
 "nbformat_minor": 2
}
