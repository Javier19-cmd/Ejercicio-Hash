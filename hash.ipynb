{
 "cells": [
  {
   "cell_type": "code",
   "execution_count": 3,
   "metadata": {},
   "outputs": [
    {
     "name": "stdout",
     "output_type": "stream",
     "text": [
      "Hash SHA-256 del archivo documento.txt: 29f68526129c28be4a3b01d5a4ff5e5e92ff5a05b697f736fa08101e7cdcd1ad\n"
     ]
    }
   ],
   "source": [
    "import hashlib\n",
    "\n",
    "def calcular_sha256(nombre_archivo):\n",
    "    sha256 = hashlib.sha256()\n",
    "    with open(nombre_archivo, 'rb') as archivo:\n",
    "        contenido = archivo.read()\n",
    "        sha256.update(contenido)\n",
    "    return sha256.hexdigest()\n",
    "\n",
    "nombre_archivo = 'documento.txt'\n",
    "hash_sha256 = calcular_sha256(nombre_archivo)\n",
    "print(\"Hash SHA-256 del archivo {}: {}\".format(nombre_archivo, hash_sha256))"
   ]
  }
 ],
 "metadata": {
  "kernelspec": {
   "display_name": "Python 3",
   "language": "python",
   "name": "python3"
  },
  "language_info": {
   "codemirror_mode": {
    "name": "ipython",
    "version": 3
   },
   "file_extension": ".py",
   "mimetype": "text/x-python",
   "name": "python",
   "nbconvert_exporter": "python",
   "pygments_lexer": "ipython3",
   "version": "3.11.3"
  }
 },
 "nbformat": 4,
 "nbformat_minor": 2
}
